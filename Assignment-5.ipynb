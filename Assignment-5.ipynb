{
 "cells": [
  {
   "cell_type": "code",
   "execution_count": null,
   "metadata": {},
   "outputs": [],
   "source": [
    "1. What does an empty dictionary's code look like?"
   ]
  },
  {
   "cell_type": "code",
   "execution_count": null,
   "metadata": {},
   "outputs": [],
   "source": [
    "In python empty dictionary is represented using curly braces '{}'. Here's how it \n",
    "looks : \n",
    "emp_dict = {}\n",
    "This creates an empty dictionary named 'emp_dict'. we can then add key-value pairs to this dictionary using\n",
    "the syntax 'dict_name[key] = value'. For ex:\n",
    "emp_dict['key1'] = 'value1'\n",
    "emp_dict['key2'] = 'value2'    "
   ]
  },
  {
   "cell_type": "code",
   "execution_count": null,
   "metadata": {},
   "outputs": [],
   "source": [
    "2. What is the value of a dictionary value with the key 'foo' and the value 42?\n"
   ]
  },
  {
   "cell_type": "code",
   "execution_count": 1,
   "metadata": {},
   "outputs": [
    {
     "name": "stdout",
     "output_type": "stream",
     "text": [
      "42\n"
     ]
    }
   ],
   "source": [
    "my_dict = {'foo': 42}\n",
    "value_of_foo = my_dict['foo']\n",
    "print(value_of_foo)"
   ]
  },
  {
   "cell_type": "code",
   "execution_count": null,
   "metadata": {},
   "outputs": [],
   "source": [
    "3. What is the most significant distinction between a dictionary and a list?"
   ]
  },
  {
   "cell_type": "code",
   "execution_count": null,
   "metadata": {},
   "outputs": [],
   "source": [
    "The most significant distinction between a dictionary and a list in python lies \n",
    "in how they store and organize data:\n",
    "1. Data organization:\n",
    "    List: A list is an ordered collection of elements that allows duplicate values.The elements in a list \n",
    "    are indexed and accessed by integer positions, starting from 0. Lists maintain the order of elements\n",
    "    based on their insertion.\n",
    "    \n",
    "    Dictionary:A dictionary is an unordered collection of key-value pairs.\n",
    "    Each key in the dictionary is unique and maps to a specific value.\n",
    "    The keys in a dictionary are used to access the associated values quickly.\n",
    "\n",
    "2. Accessing Elements:\n",
    "    List: Elements in a list are accessed using integer indices. for ex:- my_list[0] gives\n",
    "          the first element in the list, my_list[1] gives the second element, and so on.\n",
    "    Dictionary: Elements in a dictionary are accessed using their keys. For example,\n",
    "                if you have a dictionary 'my_dict', you can access the value associated\n",
    "                with a specific key like this: my_dict['key']. \n",
    "\n",
    "3. Ordering:\n",
    "        List: Lists maintain the order of elements as they are inserted. The order of elements\n",
    "              in a list is significant.\n",
    "                \n",
    "        Dictionary: Dictionaries do not guarantee any specific order for the keys and values.\n",
    "                    The elements in a dictionary are stored based on the hash of the keys, which\n",
    "                    allows for fast access but does not preserve the insertion order.\n",
    "    \n",
    "4. Duplication:\n",
    "        List: Lists can contain duplicate elements. You can have the same value multiple times in list\n",
    "        Dictionary: Dictionary keys must be unique. However, the values in a dictionary can be duplicated.\n",
    "            \n",
    "        "
   ]
  },
  {
   "cell_type": "code",
   "execution_count": null,
   "metadata": {},
   "outputs": [],
   "source": [
    "4. What happens if you try to access spam['foo'] if spam is {'bar': 100}?"
   ]
  },
  {
   "cell_type": "code",
   "execution_count": null,
   "metadata": {},
   "outputs": [],
   "source": [
    "If we try to access spam['foo'] when spam is {'bar':100}, we will encounter a \n",
    "'keyerror'. This is because the key 'foo' does not exist in the 'spam' dictionary.\n",
    "\n",
    "In python, when we try to access a key in a dictionary using square brackets ('[]')\n",
    "it looks for that key in the dictionary and returns the corresponding value if the key is found. However, \n",
    "if the key is not present in the dictionary, it raises a KeyError.\n"
   ]
  },
  {
   "cell_type": "code",
   "execution_count": 4,
   "metadata": {},
   "outputs": [
    {
     "name": "stdout",
     "output_type": "stream",
     "text": [
      "keyerror: 'foo'\n"
     ]
    }
   ],
   "source": [
    "spam = {'bar': 100}\n",
    "try:\n",
    "    value =  spam['foo']\n",
    "    print(value)\n",
    "except KeyError as e:\n",
    "    print(f\"keyerror: {e}\")\n",
    "    \n",
    "    "
   ]
  },
  {
   "cell_type": "code",
   "execution_count": 5,
   "metadata": {},
   "outputs": [
    {
     "name": "stdout",
     "output_type": "stream",
     "text": [
      "key not found\n"
     ]
    }
   ],
   "source": [
    "# To avoid such errors, get() method for dictionary access, which allows  to provide\n",
    "# a default value if the key is not found:\n",
    "spam = {'bar' : 100}\n",
    "value = spam.get('foo', 'key not found')\n",
    "print(value)"
   ]
  },
  {
   "cell_type": "code",
   "execution_count": null,
   "metadata": {},
   "outputs": [],
   "source": [
    "5.If a dictionary is stored in spam, what is the difference between the expressions 'cat' in spam and\n",
    "'cat' in spam.keys()?"
   ]
  },
  {
   "cell_type": "code",
   "execution_count": 2,
   "metadata": {},
   "outputs": [],
   "source": [
    "In python, a dictionary is a collection of key-value pairs, where each key is unique\n",
    "and maps to a specific value.\n",
    "1. 'cat' in spam: This expression checks if the string 'cat' is a key in the \n",
    "    dictionary 'spam'.It will return 'True' if the key 'cat' exists in the dictionary 'spam'. It will \n",
    "    return 'True' if the key 'cat' exists in the dictionary 'spam', or false\n",
    "2. 'cat' in spam.keys(): This expression is similar to the first one, but it \n",
    "    explicitly checks if the string 'cat' is a key in the dictionary 'spam' by using \n",
    "    keys() method. It will also return 'True' if the key 'cat' exists in \n",
    "    the dictionary 'spam', and 'False' otherwise.\n",
    " \n"
   ]
  },
  {
   "cell_type": "code",
   "execution_count": 6,
   "metadata": {},
   "outputs": [
    {
     "data": {
      "text/plain": [
       "True"
      ]
     },
     "execution_count": 6,
     "metadata": {},
     "output_type": "execute_result"
    }
   ],
   "source": [
    "spam = {'cat': '1', 'dog': '2', 'fish': '3'}\n",
    "'cat' in spam\n",
    "'cat' in spam.keys()"
   ]
  },
  {
   "cell_type": "code",
   "execution_count": null,
   "metadata": {},
   "outputs": [],
   "source": [
    "6. If a dictionary is stored in spam, what is the difference between the expressions 'cat' in spam \n",
    "and 'cat' in spam.values()?\n"
   ]
  },
  {
   "cell_type": "code",
   "execution_count": null,
   "metadata": {},
   "outputs": [],
   "source": [
    "1.'cat' in spam: This expression checks if the string 'cat' is a key in the dictionary spam. It will \n",
    "    return True if the key 'cat' exists in the dictionary as one of its keys, and False \n",
    "otherwise. This expression doesn't look at the values in the dictionary, only the keys.\n",
    "2.'cat' in spam.values(): This expression checks if the string 'cat' appears as a value in any of the \n",
    "    dictionary spam's key-value pairs. It will return True if the value 'cat' is present in any of the \n",
    "    values within the dictionary, and False otherwise. \n",
    "    This expression doesn't consider the keys, only the value."
   ]
  },
  {
   "cell_type": "code",
   "execution_count": null,
   "metadata": {},
   "outputs": [],
   "source": [
    "7. What is a shortcut for the following code?\n",
    "if 'color' not in spam:\n",
    "spam['color'] = 'black'\n",
    "\n",
    "\n"
   ]
  },
  {
   "cell_type": "code",
   "execution_count": 7,
   "metadata": {},
   "outputs": [
    {
     "data": {
      "text/plain": [
       "'black'"
      ]
     },
     "execution_count": 7,
     "metadata": {},
     "output_type": "execute_result"
    }
   ],
   "source": [
    "spam.setdefault('color','black')\n",
    "The 'setdefault()' method checks if the given key is present in the dictionary. If the key is not found, \n",
    "it adds the key with the provided default value to the dictionary. If the key is already\n",
    "present, it doesn't modify the dictionary. This is a convenient way to ensure that a key exists in the \n",
    "dictionary without overwriting its value if it's already there.\n"
   ]
  },
  {
   "cell_type": "code",
   "execution_count": null,
   "metadata": {},
   "outputs": [],
   "source": [
    "8. How do you \"pretty print\" dictionary values using which module and function?\n"
   ]
  },
  {
   "cell_type": "code",
   "execution_count": null,
   "metadata": {},
   "outputs": [],
   "source": [
    "To \"pretty print\" dictionary values in Python, we can use the pprint module, specifically the pprint() \n",
    "function. The pprint module provides a way to print complex data structures\n",
    "like dictionaries and lists in a more human-readable and well-formatted manner.\n"
   ]
  },
  {
   "cell_type": "code",
   "execution_count": 8,
   "metadata": {},
   "outputs": [
    {
     "name": "stdout",
     "output_type": "stream",
     "text": [
      "{'age': 30, 'city': 'Wonderland', 'name': 'Alice'}\n"
     ]
    }
   ],
   "source": [
    "import pprint\n",
    "\n",
    "spam = {'name': 'Alice', 'age': 30, 'city': 'Wonderland'}\n",
    "pprint.pprint(spam)\n"
   ]
  },
  {
   "cell_type": "code",
   "execution_count": null,
   "metadata": {},
   "outputs": [],
   "source": []
  }
 ],
 "metadata": {
  "kernelspec": {
   "display_name": "Python 3",
   "language": "python",
   "name": "python3"
  },
  "language_info": {
   "codemirror_mode": {
    "name": "ipython",
    "version": 3
   },
   "file_extension": ".py",
   "mimetype": "text/x-python",
   "name": "python",
   "nbconvert_exporter": "python",
   "pygments_lexer": "ipython3",
   "version": "3.8.5"
  }
 },
 "nbformat": 4,
 "nbformat_minor": 4
}
